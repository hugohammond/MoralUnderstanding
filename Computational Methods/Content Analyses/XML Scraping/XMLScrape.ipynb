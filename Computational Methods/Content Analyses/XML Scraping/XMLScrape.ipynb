{
 "cells": [
  {
   "cell_type": "code",
   "execution_count": 15,
   "metadata": {},
   "outputs": [
    {
     "name": "stdout",
     "output_type": "stream",
     "text": [
      "Extraction complete. Results saved.\n"
     ]
    }
   ],
   "source": [
    "import xml.etree.ElementTree as ET\n",
    "import csv\n",
    "import string\n",
    "\n",
    "# Parse the XML script\n",
    "tree = ET.parse('FargoScript.xml')\n",
    "root = tree.getroot()\n",
    "\n",
    "# Open the CSV file for writing\n",
    "with open('FargoFinal.csv', mode='w', newline='') as file:\n",
    "    writer = csv.writer(file)\n",
    "    writer.writerow(['Scene', 'Stage Direction', 'Speaker', 'Dialogue'])\n",
    "\n",
    "    # Iterate over all scenes in the script\n",
    "    for scene in root.findall('scene'):\n",
    "        scene_number = scene.get('count')\n",
    "        stage_direction_element = scene.find('stageDirection')\n",
    "\n",
    "        # Check if stage direction exists\n",
    "        if stage_direction_element is not None:\n",
    "            stage_direction = stage_direction_element.text.strip()\n",
    "        else:\n",
    "            stage_direction = \"\"\n",
    "\n",
    "        # Iterate over the speeches/dialogues in the scene\n",
    "        speeches = scene.findall('.//speech')\n",
    "        if speeches:\n",
    "            for speech in speeches:\n",
    "                speaker = speech.get('speaker')\n",
    "\n",
    "                # Iterate over the sentences/dialogues within the speech\n",
    "                for sentence in speech.findall('.//sentence'):\n",
    "                    sentence_type = sentence.get('type')\n",
    "                    if sentence_type =='normal':\n",
    "                        dialogue = ' '.join(word.text.strip() if word.text is not None else '' for word in sentence.iter('word'))\n",
    "                   \n",
    "                        # Add a single space before the dash (\"-\") in dialogues (this can be deleted)\n",
    "                        dialogue = dialogue.replace('-', ' -')  \n",
    "                        \n",
    "                        # Remove leading spaces before punctuation marks\n",
    "                        for punctuation in string.punctuation:\n",
    "                            if punctuation != '-':  #if you delete the above dash, delete this line as well.\n",
    "                                dialogue = dialogue.replace(' ' + punctuation, punctuation)\n",
    "\n",
    "                        writer.writerow([scene_number, stage_direction, speaker, dialogue])\n",
    "        else:\n",
    "            # Write an empty row for scenes without speeches/dialogues except when it is a dialogue\n",
    "            #I wrote \"BLANK. \" for empty dialogue lines to do further analyses easier on me. You can just write \"\" if you want\n",
    "            writer.writerow([scene_number, stage_direction, \"\", \"BLANK. \"])\n",
    "            \n",
    "            \n",
    "# File is automatically closed after exiting the 'with' block\n",
    "\n",
    "print(\"Extraction complete. Results saved.\")\n"
   ]
  },
  {
   "cell_type": "code",
   "execution_count": 6,
   "metadata": {},
   "outputs": [
    {
     "name": "stdout",
     "output_type": "stream",
     "text": [
      "Extraction complete. Results saved.\n"
     ]
    }
   ],
   "source": [
    "##creating a category column for normal or manner speeches.\n",
    "\n",
    "#without empty parts\n",
    "\n",
    "import xml.etree.ElementTree as ET\n",
    "import csv\n",
    "import string\n",
    "\n",
    "# Parse the XML script\n",
    "tree = ET.parse('FargoScript.xml')\n",
    "root = tree.getroot()\n",
    "\n",
    "# Open the CSV file for writing\n",
    "with open('FargoCategory.csv', mode='w', newline='') as file:\n",
    "    writer = csv.writer(file)\n",
    "    writer.writerow(['Category', 'Scene', 'Stage Direction', 'Speaker', 'Dialogue'])\n",
    "\n",
    "    # Iterate over all scenes in the script\n",
    "    for scene in root.findall('scene'):\n",
    "        scene_number = scene.get('count')\n",
    "        stage_direction_element = scene.find('stageDirection')\n",
    "\n",
    "        # Check if stage direction exists\n",
    "        if stage_direction_element is not None:\n",
    "            stage_direction = stage_direction_element.text.strip()\n",
    "        else:\n",
    "            stage_direction = \"\"\n",
    "\n",
    "        # Iterate over the speeches/dialogues in the scene\n",
    "        speeches = scene.findall('.//speech')\n",
    "        if speeches:\n",
    "            for speech in speeches:\n",
    "                speaker = speech.get('speaker')\n",
    "\n",
    "                # Iterate over the sentences/dialogues within the speech\n",
    "                for sentence in speech.findall('.//sentence'):\n",
    "                    sentence_type = sentence.get('type')\n",
    "                    dialogue = ' '.join(word.text.strip() if word.text is not None else '' for word in sentence.iter('word'))\n",
    "\n",
    "                    # Remove leading spaces before punctuation marks\n",
    "                    for punctuation in string.punctuation:\n",
    "                        dialogue = dialogue.replace(' ' + punctuation, punctuation)\n",
    "\n",
    "                    # Write to CSV based on sentence type\n",
    "                    if sentence_type == 'normal':\n",
    "                        writer.writerow(['Dialogues', scene_number, stage_direction, speaker, dialogue])\n",
    "                    elif sentence_type == 'manner':\n",
    "                        writer.writerow(['Manner', scene_number, stage_direction, speaker, dialogue])\n",
    "        else:\n",
    "            # Write an empty row for scenes without speeches/dialogues\n",
    "            writer.writerow(['', scene_number, stage_direction, \"\", \"\"])\n",
    "            \n",
    "#please note, this version does not have (-) lines or BLANK. notice.            \n",
    "# File is automatically closed after exiting the 'with' block\n",
    "\n",
    "print(\"Extraction complete. Results saved.\")\n"
   ]
  },
  {
   "cell_type": "code",
   "execution_count": null,
   "metadata": {},
   "outputs": [],
   "source": []
  }
 ],
 "metadata": {
  "kernelspec": {
   "display_name": "Python 3",
   "language": "python",
   "name": "python3"
  },
  "language_info": {
   "codemirror_mode": {
    "name": "ipython",
    "version": 3
   },
   "file_extension": ".py",
   "mimetype": "text/x-python",
   "name": "python",
   "nbconvert_exporter": "python",
   "pygments_lexer": "ipython3",
   "version": "3.7.4"
  }
 },
 "nbformat": 4,
 "nbformat_minor": 2
}
